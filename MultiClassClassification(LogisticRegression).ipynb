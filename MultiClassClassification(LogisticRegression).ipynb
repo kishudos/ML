{
 "cells": [
  {
   "cell_type": "code",
   "execution_count": 42,
   "metadata": {},
   "outputs": [],
   "source": [
    "import pandas as pd\n",
    "import numpy as np\n",
    "import matplotlib.pyplot as plt\n",
    "from sklearn import datasets\n",
    "from sklearn import linear_model"
   ]
  },
  {
   "cell_type": "code",
   "execution_count": 2,
   "metadata": {},
   "outputs": [],
   "source": [
    "digits_dataset = datasets.load_digits()"
   ]
  },
  {
   "cell_type": "code",
   "execution_count": 4,
   "metadata": {},
   "outputs": [
    {
     "data": {
      "text/plain": [
       "['DESCR', 'data', 'images', 'target', 'target_names']"
      ]
     },
     "execution_count": 4,
     "metadata": {},
     "output_type": "execute_result"
    }
   ],
   "source": [
    "dir(digits_dataset)"
   ]
  },
  {
   "cell_type": "code",
   "execution_count": 24,
   "metadata": {},
   "outputs": [
    {
     "data": {
      "text/plain": [
       "<Figure size 432x288 with 0 Axes>"
      ]
     },
     "metadata": {},
     "output_type": "display_data"
    },
    {
     "data": {
      "image/png": "[encoded data removed]",
      "text/plain": [
       "<Figure size 288x288 with 1 Axes>"
      ]
     },
     "metadata": {
      "needs_background": "light"
     },
     "output_type": "display_data"
    },
    {
     "data": {
      "image/png": "[encoded data removed]",
      "text/plain": [
       "<Figure size 288x288 with 1 Axes>"
      ]
     },
     "metadata": {
      "needs_background": "light"
     },
     "output_type": "display_data"
    },
    {
     "data": {
      "image/png": "[encoded data removed]",
      "text/plain": [
       "<Figure size 288x288 with 1 Axes>"
      ]
     },
     "metadata": {
      "needs_background": "light"
     },
     "output_type": "display_data"
    },
    {
     "data": {
      "image/png": "[encoded data removed]",
      "text/plain": [
       "<Figure size 288x288 with 1 Axes>"
      ]
     },
     "metadata": {
      "needs_background": "light"
     },
     "output_type": "display_data"
    },
    {
     "data": {
      "image/png": "[encoded data removed]",
      "text/plain": [
       "<Figure size 288x288 with 1 Axes>"
      ]
     },
     "metadata": {
      "needs_background": "light"
     },
     "output_type": "display_data"
    }
   ],
   "source": [
    "plt.gray()\n",
    "for i in range(5):\n",
    "    plt.matshow(digits_dataset.images[i])"
   ]
  },
  {
   "cell_type": "code",
   "execution_count": 29,
   "metadata": {},
   "outputs": [
    {
     "data": {
      "text/plain": [
       "array([ 0.,  0.,  5., 13.,  9.,  1.,  0.,  0.,  0.,  0., 13., 15., 10.,\n",
       "       15.,  5.,  0.,  0.,  3., 15.,  2.,  0., 11.,  8.,  0.,  0.,  4.,\n",
       "       12.,  0.,  0.,  8.,  8.,  0.,  0.,  5.,  8.,  0.,  0.,  9.,  8.,\n",
       "        0.,  0.,  4., 11.,  0.,  1., 12.,  7.,  0.,  0.,  2., 14.,  5.,\n",
       "       10., 12.,  0.,  0.,  0.,  0.,  6., 13., 10.,  0.,  0.,  0.])"
      ]
     },
     "execution_count": 29,
     "metadata": {},
     "output_type": "execute_result"
    }
   ],
   "source": [
    "digits_dataset.data[0]"
   ]
  },
  {
   "cell_type": "code",
   "execution_count": 41,
   "metadata": {},
   "outputs": [
    {
     "data": {
      "text/plain": [
       "array([0, 1, 2, ..., 8, 9, 8])"
      ]
     },
     "execution_count": 41,
     "metadata": {},
     "output_type": "execute_result"
    }
   ],
   "source": [
    "digits_dataset.target"
   ]
  },
  {
   "cell_type": "code",
   "execution_count": 67,
   "metadata": {},
   "outputs": [],
   "source": [
    "model = linear_model.LogisticRegression(solver='lbfgs', multi_class='auto',max_iter=2500)"
   ]
  },
  {
   "cell_type": "code",
   "execution_count": 68,
   "metadata": {},
   "outputs": [],
   "source": [
    "from sklearn.model_selection import train_test_split"
   ]
  },
  {
   "cell_type": "code",
   "execution_count": 69,
   "metadata": {},
   "outputs": [],
   "source": [
    "x_train, x_test, y_train, y_test = train_test_split(digits_dataset.data, digits_dataset.target, test_size=0.2)"
   ]
  },
  {
   "cell_type": "code",
   "execution_count": 70,
   "metadata": {},
   "outputs": [
    {
     "data": {
      "text/plain": [
       "LogisticRegression(C=1.0, class_weight=None, dual=False, fit_intercept=True,\n",
       "                   intercept_scaling=1, l1_ratio=None, max_iter=2500,\n",
       "                   multi_class='auto', n_jobs=None, penalty='l2',\n",
       "                   random_state=None, solver='lbfgs', tol=0.0001, verbose=0,\n",
       "                   warm_start=False)"
      ]
     },
     "execution_count": 70,
     "metadata": {},
     "output_type": "execute_result"
    }
   ],
   "source": [
    "model.fit(x_train, y_train)"
   ]
  },
  {
   "cell_type": "code",
   "execution_count": 71,
   "metadata": {},
   "outputs": [
    {
     "data": {
      "text/plain": [
       "0.9611111111111111"
      ]
     },
     "execution_count": 71,
     "metadata": {},
     "output_type": "execute_result"
    }
   ],
   "source": [
    "model.score(x_test, y_test)"
   ]
  },
  {
   "cell_type": "code",
   "execution_count": 72,
   "metadata": {},
   "outputs": [
    {
     "data": {
      "text/plain": [
       "array([2, 1, 7, 5, 3, 7, 9, 5, 6, 7, 1, 2, 7, 0, 9, 4, 0, 1, 9, 9, 8, 5,\n",
       "       7, 0, 1, 6, 3, 3, 7, 5, 4, 0, 3, 3, 7, 5, 2, 0, 4, 0, 7, 0, 2, 1,\n",
       "       0, 3, 1, 8, 9, 7, 3, 4, 0, 7, 9, 4, 8, 0, 6, 6, 6, 5, 1, 8, 2, 9,\n",
       "       0, 8, 0, 4, 6, 1, 8, 9, 3, 5, 5, 9, 4, 2, 8, 9, 0, 0, 5, 4, 2, 3,\n",
       "       6, 4, 8, 6, 9, 2, 3, 2, 8, 9, 4, 5, 7, 3, 0, 0, 3, 7, 5, 3, 1, 9,\n",
       "       1, 2, 1, 7, 4, 3, 2, 2, 8, 5, 4, 7, 1, 4, 8, 1, 3, 6, 5, 6, 5, 3,\n",
       "       1, 0, 7, 6, 9, 0, 4, 8, 4, 3, 4, 4, 3, 8, 2, 9, 2, 3, 8, 8, 6, 6,\n",
       "       1, 2, 2, 7, 2, 1, 4, 0, 3, 9, 9, 8, 2, 5, 9, 6, 5, 6, 2, 3, 3, 1,\n",
       "       8, 4, 0, 1, 7, 0, 6, 3, 6, 7, 4, 3, 7, 4, 3, 2, 2, 9, 7, 2, 5, 3,\n",
       "       5, 0, 9, 4, 7, 7, 5, 8, 5, 5, 3, 1, 5, 4, 9, 4, 4, 6, 8, 1, 8, 1,\n",
       "       3, 7, 8, 8, 8, 1, 7, 3, 0, 8, 6, 5, 1, 2, 8, 2, 9, 1, 3, 7, 2, 9,\n",
       "       8, 0, 1, 8, 9, 6, 2, 9, 5, 2, 6, 2, 9, 8, 4, 3, 9, 6, 3, 5, 4, 5,\n",
       "       6, 3, 2, 2, 3, 6, 9, 6, 6, 0, 5, 3, 3, 3, 7, 9, 8, 9, 6, 1, 0, 2,\n",
       "       2, 2, 0, 6, 2, 7, 3, 9, 6, 9, 3, 1, 8, 2, 4, 5, 2, 5, 6, 1, 6, 3,\n",
       "       7, 4, 8, 6, 2, 7, 5, 6, 2, 1, 9, 5, 3, 5, 4, 7, 8, 6, 8, 2, 3, 7,\n",
       "       1, 3, 9, 2, 4, 1, 4, 8, 5, 0, 1, 8, 3, 2, 6, 3, 5, 1, 3, 9, 4, 1,\n",
       "       8, 9, 4, 9, 2, 1, 0, 0])"
      ]
     },
     "execution_count": 72,
     "metadata": {},
     "output_type": "execute_result"
    }
   ],
   "source": [
    "model.predict(x_test)"
   ]
  },
  {
   "cell_type": "code",
   "execution_count": 73,
   "metadata": {},
   "outputs": [
    {
     "data": {
      "text/plain": [
       "array([2, 1, 7, 5, 3, 7, 3, 5, 6, 7, 1, 2, 7, 0, 9, 4, 0, 1, 9, 9, 4, 5,\n",
       "       7, 0, 1, 6, 3, 3, 7, 5, 4, 0, 3, 3, 7, 5, 2, 0, 4, 0, 7, 0, 2, 1,\n",
       "       0, 3, 1, 8, 9, 7, 3, 4, 0, 7, 5, 4, 8, 0, 6, 6, 6, 5, 1, 8, 2, 9,\n",
       "       0, 8, 0, 4, 6, 1, 8, 9, 3, 5, 5, 9, 4, 2, 8, 9, 0, 0, 5, 4, 2, 3,\n",
       "       6, 4, 8, 6, 9, 2, 3, 2, 8, 9, 4, 5, 7, 3, 0, 0, 3, 7, 5, 3, 1, 9,\n",
       "       5, 2, 1, 7, 4, 3, 2, 2, 8, 5, 4, 7, 1, 4, 8, 1, 3, 6, 5, 6, 5, 3,\n",
       "       1, 0, 7, 6, 9, 0, 1, 8, 4, 3, 4, 4, 3, 8, 2, 9, 2, 3, 8, 9, 6, 6,\n",
       "       1, 2, 2, 7, 2, 8, 4, 0, 3, 9, 9, 8, 2, 5, 9, 6, 5, 6, 2, 3, 3, 1,\n",
       "       8, 4, 0, 1, 7, 0, 6, 3, 6, 7, 4, 3, 7, 4, 3, 2, 2, 9, 5, 2, 5, 3,\n",
       "       5, 0, 9, 4, 7, 7, 5, 8, 5, 5, 3, 1, 5, 4, 5, 4, 4, 6, 8, 1, 8, 1,\n",
       "       3, 7, 8, 8, 8, 1, 5, 3, 0, 8, 6, 5, 1, 2, 8, 2, 9, 1, 3, 7, 2, 9,\n",
       "       8, 0, 1, 8, 9, 6, 2, 9, 5, 2, 6, 2, 9, 8, 4, 3, 9, 6, 3, 5, 4, 5,\n",
       "       6, 3, 2, 2, 3, 6, 9, 6, 6, 0, 5, 3, 3, 3, 7, 9, 8, 9, 6, 8, 0, 2,\n",
       "       2, 2, 0, 6, 2, 7, 3, 9, 6, 9, 3, 9, 8, 2, 4, 5, 2, 5, 6, 1, 6, 3,\n",
       "       7, 4, 8, 6, 2, 7, 6, 6, 2, 1, 9, 5, 3, 5, 4, 7, 8, 6, 8, 2, 3, 7,\n",
       "       1, 3, 9, 2, 4, 1, 4, 8, 8, 0, 1, 8, 3, 2, 6, 3, 5, 1, 3, 9, 4, 1,\n",
       "       8, 9, 4, 9, 2, 1, 0, 0])"
      ]
     },
     "execution_count": 73,
     "metadata": {},
     "output_type": "execute_result"
    }
   ],
   "source": [
    "y_test"
   ]
  },
  {
   "cell_type": "code",
   "execution_count": 75,
   "metadata": {},
   "outputs": [],
   "source": [
    "y_predicted = model.predict(x_test)"
   ]
  },
  {
   "cell_type": "code",
   "execution_count": 76,
   "metadata": {},
   "outputs": [
    {
     "data": {
      "text/plain": [
       "array([[30,  0,  0,  0,  0,  0,  0,  0,  0,  0],\n",
       "       [ 0, 31,  0,  0,  1,  0,  0,  0,  0,  0],\n",
       "       [ 0,  0, 42,  0,  0,  0,  0,  0,  0,  0],\n",
       "       [ 0,  0,  0, 46,  0,  0,  0,  0,  0,  1],\n",
       "       [ 0,  0,  0,  0, 33,  0,  0,  0,  1,  0],\n",
       "       [ 0,  1,  0,  0,  0, 32,  0,  2,  0,  2],\n",
       "       [ 0,  0,  0,  0,  0,  1, 35,  0,  0,  0],\n",
       "       [ 0,  0,  0,  0,  0,  0,  0, 29,  0,  0],\n",
       "       [ 0,  2,  0,  0,  0,  1,  0,  0, 34,  0],\n",
       "       [ 0,  1,  0,  0,  0,  0,  0,  0,  1, 34]])"
      ]
     },
     "execution_count": 76,
     "metadata": {},
     "output_type": "execute_result"
    }
   ],
   "source": [
    "from sklearn.metrics import confusion_matrix\n",
    "cm = confusion_matrix(y_test, y_predicted)\n",
    "cm"
   ]
  },
  {
   "cell_type": "code",
   "execution_count": 87,
   "metadata": {},
   "outputs": [
    {
     "data": {
      "text/plain": [
       "Text(69.0, 0.5, 'Truth')"
      ]
     },
     "execution_count": 87,
     "metadata": {},
     "output_type": "execute_result"
    },
    {
     "data": {
      "image/png": "[encoded data removed]",
      "text/plain": [
       "<Figure size 720x504 with 2 Axes>"
      ]
     },
     "metadata": {
      "needs_background": "light"
     },
     "output_type": "display_data"
    }
   ],
   "source": [
    "import seaborn as sn\n",
    "plt.figure(figsize = (10,7))\n",
    "sn.heatmap(cm, annot=True)\n",
    "plt.xlabel('Predicted')\n",
    "plt.ylabel('Truth')"
   ]
  },
  {
   "cell_type": "code",
   "execution_count": 91,
   "metadata": {},
   "outputs": [],
   "source": [
    "# Iris dataset \n",
    "iris_dataset = datasets.load_iris()"
   ]
  },
  {
   "cell_type": "code",
   "execution_count": 92,
   "metadata": {},
   "outputs": [
    {
     "data": {
      "text/plain": [
       "['DESCR', 'data', 'feature_names', 'filename', 'target', 'target_names']"
      ]
     },
     "execution_count": 92,
     "metadata": {},
     "output_type": "execute_result"
    }
   ],
   "source": [
    "dir(iris_dataset)"
   ]
  },
  {
   "cell_type": "code",
   "execution_count": 120,
   "metadata": {},
   "outputs": [
    {
     "data": {
      "text/plain": [
       "array(['setosa', 'versicolor', 'virginica'], dtype='<U10')"
      ]
     },
     "execution_count": 120,
     "metadata": {},
     "output_type": "execute_result"
    }
   ],
   "source": [
    "iris_dataset.target_names"
   ]
  },
  {
   "cell_type": "code",
   "execution_count": 107,
   "metadata": {},
   "outputs": [],
   "source": [
    "iris_model = linear_model.LogisticRegression(solver='lbfgs', multi_class='auto',max_iter=2500)"
   ]
  },
  {
   "cell_type": "code",
   "execution_count": 109,
   "metadata": {},
   "outputs": [],
   "source": [
    "iris_x_train, iris_x_test, iris_y_train, iris_y_test = train_test_split(iris_dataset.data, iris_dataset.target, test_size=0.2)"
   ]
  },
  {
   "cell_type": "code",
   "execution_count": 110,
   "metadata": {},
   "outputs": [
    {
     "data": {
      "text/plain": [
       "LogisticRegression(C=1.0, class_weight=None, dual=False, fit_intercept=True,\n",
       "                   intercept_scaling=1, l1_ratio=None, max_iter=2500,\n",
       "                   multi_class='auto', n_jobs=None, penalty='l2',\n",
       "                   random_state=None, solver='lbfgs', tol=0.0001, verbose=0,\n",
       "                   warm_start=False)"
      ]
     },
     "execution_count": 110,
     "metadata": {},
     "output_type": "execute_result"
    }
   ],
   "source": [
    "iris_model.fit(iris_x_train, iris_y_train)"
   ]
  },
  {
   "cell_type": "code",
   "execution_count": 111,
   "metadata": {},
   "outputs": [
    {
     "data": {
      "text/plain": [
       "0.9666666666666667"
      ]
     },
     "execution_count": 111,
     "metadata": {},
     "output_type": "execute_result"
    }
   ],
   "source": [
    "iris_model.score(iris_x_test, iris_y_test)"
   ]
  },
  {
   "cell_type": "code",
   "execution_count": null,
   "metadata": {},
   "outputs": [],
   "source": []
  }
 ],
 "metadata": {
  "kernelspec": {
   "display_name": "Python 3",
   "language": "python",
   "name": "python3"
  },
  "language_info": {
   "codemirror_mode": {
    "name": "ipython",
    "version": 3
   },
   "file_extension": ".py",
   "mimetype": "text/x-python",
   "name": "python",
   "nbconvert_exporter": "python",
   "pygments_lexer": "ipython3",
   "version": "3.7.4"
  }
 },
 "nbformat": 4,
 "nbformat_minor": 2
}
